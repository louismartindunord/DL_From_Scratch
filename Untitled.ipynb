{
 "cells": [
  {
   "cell_type": "code",
   "execution_count": 14,
   "id": "7a4e1556",
   "metadata": {},
   "outputs": [
    {
     "name": "stdout",
     "output_type": "stream",
     "text": [
      "(3, 4)\n",
      "(1, 3)\n",
      "size\n",
      "3\n",
      "12\n"
     ]
    }
   ],
   "source": [
    "import numpy as np\n",
    "\n",
    "\n",
    "inputs = [[1, 2, 3, 2.5],\n",
    "          [2, 5, -1, 2],\n",
    "          [-1.5, 2.7, 3.3, -0.8]]\n",
    "\n",
    "weights = [[0,2, 0.8, 0.5, 1],\n",
    "          [0.5, -0.91, 0.26, 0.5],\n",
    "          [-0.26, -0.27, 0.17, 0.87]]\n",
    "\n",
    "\n",
    "\n",
    "\n",
    "\n",
    "biases = [2, 3, 0.5]\n",
    "\n",
    "#output = np.dot(weights, inputs) + biases\n",
    "#il n'est plus poss ible de multiplier les tensor car dimension non équivalente \n",
    "#donc on transpose le tensor weight\n",
    "input_matrix =np.matrix(inputs)\n",
    "weight_matrix = np.matrix(weights)\n",
    "\n",
    "print(input_matrix.shape)\n",
    "\n",
    "print(weight_matrix.shape)\n",
    "print(\"size\")\n",
    "print(weight_matrix.size)\n",
    "print(input_matrix.size)\n",
    "#output = np.dot(inputs, np.array(weights).T) + biases \n",
    "#print (output)\n"
   ]
  },
  {
   "cell_type": "code",
   "execution_count": null,
   "id": "5e4c5373",
   "metadata": {},
   "outputs": [],
   "source": []
  },
  {
   "cell_type": "code",
   "execution_count": null,
   "id": "0589bf67",
   "metadata": {},
   "outputs": [],
   "source": []
  }
 ],
 "metadata": {
  "kernelspec": {
   "display_name": "Python 3",
   "language": "python",
   "name": "python3"
  },
  "language_info": {
   "codemirror_mode": {
    "name": "ipython",
    "version": 3
   },
   "file_extension": ".py",
   "mimetype": "text/x-python",
   "name": "python",
   "nbconvert_exporter": "python",
   "pygments_lexer": "ipython3",
   "version": "3.8.8"
  },
  "varInspector": {
   "cols": {
    "lenName": 16,
    "lenType": 16,
    "lenVar": 40
   },
   "kernels_config": {
    "python": {
     "delete_cmd_postfix": "",
     "delete_cmd_prefix": "del ",
     "library": "var_list.py",
     "varRefreshCmd": "print(var_dic_list())"
    },
    "r": {
     "delete_cmd_postfix": ") ",
     "delete_cmd_prefix": "rm(",
     "library": "var_list.r",
     "varRefreshCmd": "cat(var_dic_list()) "
    }
   },
   "types_to_exclude": [
    "module",
    "function",
    "builtin_function_or_method",
    "instance",
    "_Feature"
   ],
   "window_display": false
  }
 },
 "nbformat": 4,
 "nbformat_minor": 5
}
