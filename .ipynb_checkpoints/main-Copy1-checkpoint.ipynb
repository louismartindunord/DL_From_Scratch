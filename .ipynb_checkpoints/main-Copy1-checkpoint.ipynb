{
 "cells": [
  {
   "cell_type": "code",
   "execution_count": 1,
   "id": "3bf21676",
   "metadata": {},
   "outputs": [],
   "source": [
    "import numpy as np  \n",
    "import sys \n",
    "import matplotlib.pyplot as plt"
   ]
  },
  {
   "cell_type": "markdown",
   "id": "f26ef01c",
   "metadata": {},
   "source": [
    "## first neuron in a fully connected neural network\n"
   ]
  },
  {
   "cell_type": "code",
   "execution_count": 2,
   "id": "5aec54b3",
   "metadata": {},
   "outputs": [
    {
     "name": "stdout",
     "output_type": "stream",
     "text": [
      "4.8\n"
     ]
    }
   ],
   "source": [
    "#the input of this neuron are the output of previous neurons\n",
    "inputs = [1, 2, 3, 2.5]\n",
    "weights = [0.2, 0.8, -0.5, 1.0]\n",
    "bias = 2\n",
    "\n",
    "# first step for the neuron is to add up all the input * weights + bias \n",
    "output = inputs[0] * weights[0] + inputs[1] * weights[1] + inputs[2] * weights[2] + inputs[3] * weights[3] + bias\n",
    "print(output)"
   ]
  },
  {
   "cell_type": "markdown",
   "id": "e0050fa4",
   "metadata": {},
   "source": [
    "## 3 neuron with 4 input"
   ]
  },
  {
   "cell_type": "code",
   "execution_count": 3,
   "id": "77fa7dff",
   "metadata": {},
   "outputs": [
    {
     "name": "stdout",
     "output_type": "stream",
     "text": [
      "[4.8, 1.21, 2.385]\n"
     ]
    }
   ],
   "source": [
    "inputs = [1.0, 2.0, 3.0, 2.5]\n",
    "\n",
    "weights1 = [0.2, 0.8, -0.5, 1.0]\n",
    "weights2 = [0.5, -0.91, 0.26, -0.5]\n",
    "weights3 = [-0.26, -0.27, 0.17, 0.87]\n",
    "\n",
    "bias1 = 2.0\n",
    "bias2 = 3.0\n",
    "bias3 = 0.5\n",
    "\n",
    "\n",
    "\n",
    "\n",
    "output = [inputs[0] * weights1[0] + inputs[1] * weights1[1] + inputs[2] * weights1[2] + inputs[3] * weights[3] + bias1,\n",
    "          inputs[0] * weights2[0] + inputs[1] * weights2[1] + inputs[2] * weights2[2] + inputs[3] * weights2[3] + bias2,\n",
    "          inputs[0] * weights3[0] + inputs[1] * weights3[1] + inputs[2] * weights3[2] + inputs[3] * weights3[3] + bias3]\n",
    "print(output)"
   ]
  },
  {
   "cell_type": "markdown",
   "id": "8cb200ff",
   "metadata": {},
   "source": [
    "## cleaning up the code\n",
    "\n"
   ]
  },
  {
   "cell_type": "code",
   "execution_count": 4,
   "id": "5338bff0",
   "metadata": {},
   "outputs": [
    {
     "name": "stdout",
     "output_type": "stream",
     "text": [
      "[4.8, 1.21, 2.385]\n"
     ]
    }
   ],
   "source": [
    "weights =[[0.2, 0.8, -0.5, 1.0],\n",
    "          [0.5, -0.91, 0.26, -0.5],\n",
    "          [-0.26, -0.27, 0.17, 0.87]]\n",
    "\n",
    "biases  = [2,3,0.5]\n",
    "\n",
    "\n",
    "layer_outputs = []\n",
    "\n",
    "for neuron_weights, neuron_bias in zip(weights, biases):\n",
    "    neuron_output = 0\n",
    "    for n_input, weight in zip(inputs, neuron_weights):\n",
    "        neuron_output += n_input * weight\n",
    "    neuron_output += neuron_bias \n",
    "    layer_outputs.append(neuron_output) \n",
    "    \n",
    "print(layer_outputs)\n",
    "    \n",
    " "
   ]
  },
  {
   "cell_type": "markdown",
   "id": "afd3e82c",
   "metadata": {},
   "source": [
    "## Dots Product"
   ]
  },
  {
   "cell_type": "code",
   "execution_count": 5,
   "id": "ba4ae7ef",
   "metadata": {},
   "outputs": [
    {
     "name": "stdout",
     "output_type": "stream",
     "text": [
      "4.8\n"
     ]
    }
   ],
   "source": [
    "inputs = [1.0, 2.0, 3.0, 2.5]\n",
    "weights = [0.2, 0.8, -0.5, 1.0]\n",
    "bias = 2\n",
    "\n",
    "output = np.dot(weights, inputs) + bias\n",
    "print (output)"
   ]
  },
  {
   "cell_type": "markdown",
   "id": "4046c2db",
   "metadata": {},
   "source": [
    " ## Dots Product of layers \n",
    " \n",
    " "
   ]
  },
  {
   "cell_type": "code",
   "execution_count": 6,
   "id": "793f77b4",
   "metadata": {},
   "outputs": [
    {
     "name": "stdout",
     "output_type": "stream",
     "text": [
      "[4.8   1.21  2.385]\n"
     ]
    }
   ],
   "source": [
    "inputs = [1.0, 2.0, 3.0, 2.5]\n",
    "weights =[[0.2, 0.8, -0.5, 1.0],\n",
    "          [0.5, -0.91, 0.26, -0.5],\n",
    "          [-0.26, -0.27, 0.17, 0.87]]\n",
    "\n",
    "biases  = [2,3,0.5]\n",
    "\n",
    "output = np.dot(weights, inputs) + biases\n",
    "\n",
    "\"\"\"\n",
    "cela revient au meme que de faire \n",
    "[np.dot(weights[0],inputs),\n",
    "#np.dot(weights[1],inputs),\n",
    "np.dot(weights[2],inputs)] + biases\n",
    "\n",
    "\"\"\"\n",
    "print (output)"
   ]
  },
  {
   "cell_type": "markdown",
   "id": "08dd66f6",
   "metadata": {},
   "source": [
    "## Batches, Layers, and Objects"
   ]
  },
  {
   "cell_type": "code",
   "execution_count": 32,
   "id": "6c076eda",
   "metadata": {},
   "outputs": [
    {
     "name": "stdout",
     "output_type": "stream",
     "text": [
      "(1, 3)\n",
      "(3, 4)\n"
     ]
    }
   ],
   "source": [
    "inputs = [[1, 2, 3, 2.5],\n",
    "          [2, 5, -1, 2],\n",
    "          [-1.5, 2.7, 3.3, -0.8]]\n",
    "\n",
    "\n",
    "         \n",
    "weights = [[0,2, 0.8, 0.5, 1],\n",
    "            [0.5, -0.91, 0.26, 0.5],\n",
    "            [-0.26, -0.27, 0.17, 0.87]]\n",
    "\n",
    "\n",
    "\n",
    "biases = [2, 3, 0.5]\n",
    "\n",
    "#output = np.dot(weights, inputs) + biases\n",
    "#il n'est plus poss ible de multiplier les tensor car dimension non équivalente \n",
    "#donc on transpose le tensor weight\n",
    "\n",
    "weight_matrix = np.matrix(weights)\n",
    "input_matrix =np.matrix(inputs)\n",
    "\n",
    "print(weight_matrix.shape)\n",
    "print(input_matrix.shape)\n",
    "#output = np.dot(inputs, np.array(weights).T) + biases \n",
    "#print (output)\n"
   ]
  },
  {
   "cell_type": "code",
   "execution_count": null,
   "id": "9c25ce93",
   "metadata": {},
   "outputs": [],
   "source": []
  }
 ],
 "metadata": {
  "kernelspec": {
   "display_name": "Python 3",
   "language": "python",
   "name": "python3"
  },
  "language_info": {
   "codemirror_mode": {
    "name": "ipython",
    "version": 3
   },
   "file_extension": ".py",
   "mimetype": "text/x-python",
   "name": "python",
   "nbconvert_exporter": "python",
   "pygments_lexer": "ipython3",
   "version": "3.8.8"
  },
  "varInspector": {
   "cols": {
    "lenName": 16,
    "lenType": 16,
    "lenVar": 40
   },
   "kernels_config": {
    "python": {
     "delete_cmd_postfix": "",
     "delete_cmd_prefix": "del ",
     "library": "var_list.py",
     "varRefreshCmd": "print(var_dic_list())"
    },
    "r": {
     "delete_cmd_postfix": ") ",
     "delete_cmd_prefix": "rm(",
     "library": "var_list.r",
     "varRefreshCmd": "cat(var_dic_list()) "
    }
   },
   "types_to_exclude": [
    "module",
    "function",
    "builtin_function_or_method",
    "instance",
    "_Feature"
   ],
   "window_display": false
  }
 },
 "nbformat": 4,
 "nbformat_minor": 5
}
